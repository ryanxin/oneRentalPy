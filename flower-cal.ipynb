{
 "cells": [
  {
   "cell_type": "code",
   "execution_count": 2,
   "metadata": {},
   "outputs": [],
   "source": [
    "import pandas as pd\n",
    "\n",
    "# all_sheets_data = pd.read_csv('./flower.xlsx')\n",
    "# all_sheets_data.head()\n",
    "file_path = './flower.xlsx'  # 更改为您的文件路径\n",
    "all_sheets_data = pd.read_excel(file_path, sheet_name=None)"
   ]
  },
  {
   "cell_type": "code",
   "execution_count": 3,
   "metadata": {},
   "outputs": [
    {
     "ename": "KeyError",
     "evalue": "'单价'",
     "output_type": "error",
     "traceback": [
      "\u001b[0;31m---------------------------------------------------------------------------\u001b[0m",
      "\u001b[0;31mKeyError\u001b[0m                                  Traceback (most recent call last)",
      "File \u001b[0;32m~/Code/oneRentalPy/.venv/lib/python3.10/site-packages/pandas/core/indexes/base.py:3790\u001b[0m, in \u001b[0;36mIndex.get_loc\u001b[0;34m(self, key)\u001b[0m\n\u001b[1;32m   3789\u001b[0m \u001b[39mtry\u001b[39;00m:\n\u001b[0;32m-> 3790\u001b[0m     \u001b[39mreturn\u001b[39;00m \u001b[39mself\u001b[39;49m\u001b[39m.\u001b[39;49m_engine\u001b[39m.\u001b[39;49mget_loc(casted_key)\n\u001b[1;32m   3791\u001b[0m \u001b[39mexcept\u001b[39;00m \u001b[39mKeyError\u001b[39;00m \u001b[39mas\u001b[39;00m err:\n",
      "File \u001b[0;32mindex.pyx:152\u001b[0m, in \u001b[0;36mpandas._libs.index.IndexEngine.get_loc\u001b[0;34m()\u001b[0m\n",
      "File \u001b[0;32mindex.pyx:181\u001b[0m, in \u001b[0;36mpandas._libs.index.IndexEngine.get_loc\u001b[0;34m()\u001b[0m\n",
      "File \u001b[0;32mpandas/_libs/hashtable_class_helper.pxi:7080\u001b[0m, in \u001b[0;36mpandas._libs.hashtable.PyObjectHashTable.get_item\u001b[0;34m()\u001b[0m\n",
      "File \u001b[0;32mpandas/_libs/hashtable_class_helper.pxi:7088\u001b[0m, in \u001b[0;36mpandas._libs.hashtable.PyObjectHashTable.get_item\u001b[0;34m()\u001b[0m\n",
      "\u001b[0;31mKeyError\u001b[0m: '单价'",
      "\nThe above exception was the direct cause of the following exception:\n",
      "\u001b[0;31mKeyError\u001b[0m                                  Traceback (most recent call last)",
      "\u001b[1;32m/Users/ryan/Code/oneRentalPy/flower-cal.ipynb Cell 2\u001b[0m line \u001b[0;36m3\n\u001b[1;32m     <a href='vscode-notebook-cell:/Users/ryan/Code/oneRentalPy/flower-cal.ipynb#W1sZmlsZQ%3D%3D?line=32'>33</a>\u001b[0m final_summary_sorted\n\u001b[1;32m     <a href='vscode-notebook-cell:/Users/ryan/Code/oneRentalPy/flower-cal.ipynb#W1sZmlsZQ%3D%3D?line=33'>34</a>\u001b[0m \u001b[39m# 计算总价格\u001b[39;00m\n\u001b[0;32m---> <a href='vscode-notebook-cell:/Users/ryan/Code/oneRentalPy/flower-cal.ipynb#W1sZmlsZQ%3D%3D?line=34'>35</a>\u001b[0m final_summary[\u001b[39m'\u001b[39m\u001b[39m总价格\u001b[39m\u001b[39m'\u001b[39m] \u001b[39m=\u001b[39m (final_summary[\u001b[39m'\u001b[39m\u001b[39m数量\u001b[39m\u001b[39m'\u001b[39m] \u001b[39m*\u001b[39m final_summary[\u001b[39m'\u001b[39;49m\u001b[39m单价\u001b[39;49m\u001b[39m'\u001b[39;49m])\u001b[39m.\u001b[39mround(\u001b[39m2\u001b[39m)\n\u001b[1;32m     <a href='vscode-notebook-cell:/Users/ryan/Code/oneRentalPy/flower-cal.ipynb#W1sZmlsZQ%3D%3D?line=35'>36</a>\u001b[0m \u001b[39m# 输出结果到 CSV 文件\u001b[39;00m\n\u001b[1;32m     <a href='vscode-notebook-cell:/Users/ryan/Code/oneRentalPy/flower-cal.ipynb#W1sZmlsZQ%3D%3D?line=36'>37</a>\u001b[0m csv_file_path \u001b[39m=\u001b[39m \u001b[39m'\u001b[39m\u001b[39mfinal_summary.csv\u001b[39m\u001b[39m'\u001b[39m  \u001b[39m# 更改为您想要的文件名和路径\u001b[39;00m\n",
      "File \u001b[0;32m~/Code/oneRentalPy/.venv/lib/python3.10/site-packages/pandas/core/frame.py:3893\u001b[0m, in \u001b[0;36mDataFrame.__getitem__\u001b[0;34m(self, key)\u001b[0m\n\u001b[1;32m   3891\u001b[0m \u001b[39mif\u001b[39;00m \u001b[39mself\u001b[39m\u001b[39m.\u001b[39mcolumns\u001b[39m.\u001b[39mnlevels \u001b[39m>\u001b[39m \u001b[39m1\u001b[39m:\n\u001b[1;32m   3892\u001b[0m     \u001b[39mreturn\u001b[39;00m \u001b[39mself\u001b[39m\u001b[39m.\u001b[39m_getitem_multilevel(key)\n\u001b[0;32m-> 3893\u001b[0m indexer \u001b[39m=\u001b[39m \u001b[39mself\u001b[39;49m\u001b[39m.\u001b[39;49mcolumns\u001b[39m.\u001b[39;49mget_loc(key)\n\u001b[1;32m   3894\u001b[0m \u001b[39mif\u001b[39;00m is_integer(indexer):\n\u001b[1;32m   3895\u001b[0m     indexer \u001b[39m=\u001b[39m [indexer]\n",
      "File \u001b[0;32m~/Code/oneRentalPy/.venv/lib/python3.10/site-packages/pandas/core/indexes/base.py:3797\u001b[0m, in \u001b[0;36mIndex.get_loc\u001b[0;34m(self, key)\u001b[0m\n\u001b[1;32m   3792\u001b[0m     \u001b[39mif\u001b[39;00m \u001b[39misinstance\u001b[39m(casted_key, \u001b[39mslice\u001b[39m) \u001b[39mor\u001b[39;00m (\n\u001b[1;32m   3793\u001b[0m         \u001b[39misinstance\u001b[39m(casted_key, abc\u001b[39m.\u001b[39mIterable)\n\u001b[1;32m   3794\u001b[0m         \u001b[39mand\u001b[39;00m \u001b[39many\u001b[39m(\u001b[39misinstance\u001b[39m(x, \u001b[39mslice\u001b[39m) \u001b[39mfor\u001b[39;00m x \u001b[39min\u001b[39;00m casted_key)\n\u001b[1;32m   3795\u001b[0m     ):\n\u001b[1;32m   3796\u001b[0m         \u001b[39mraise\u001b[39;00m InvalidIndexError(key)\n\u001b[0;32m-> 3797\u001b[0m     \u001b[39mraise\u001b[39;00m \u001b[39mKeyError\u001b[39;00m(key) \u001b[39mfrom\u001b[39;00m \u001b[39merr\u001b[39;00m\n\u001b[1;32m   3798\u001b[0m \u001b[39mexcept\u001b[39;00m \u001b[39mTypeError\u001b[39;00m:\n\u001b[1;32m   3799\u001b[0m     \u001b[39m# If we have a listlike key, _check_indexing_error will raise\u001b[39;00m\n\u001b[1;32m   3800\u001b[0m     \u001b[39m#  InvalidIndexError. Otherwise we fall through and re-raise\u001b[39;00m\n\u001b[1;32m   3801\u001b[0m     \u001b[39m#  the TypeError.\u001b[39;00m\n\u001b[1;32m   3802\u001b[0m     \u001b[39mself\u001b[39m\u001b[39m.\u001b[39m_check_indexing_error(key)\n",
      "\u001b[0;31mKeyError\u001b[0m: '单价'"
     ]
    }
   ],
   "source": [
    "\n",
    "all_products_summary = pd.DataFrame()\n",
    "# 遍历每个工作表\n",
    "for sheet_name, sheet_data in all_sheets_data.items():\n",
    "    # 确保 sheet_data 是 DataFrame\n",
    "    if isinstance(sheet_data, pd.DataFrame) and '订单号' in sheet_data.columns and '订单状态' in sheet_data.columns:\n",
    "        # 使用前向填充（ffill）方法填充订单号和订单状态\n",
    "        sheet_data['订单号'].ffill(inplace=True)\n",
    "        sheet_data['订单状态'].ffill(inplace=True)\n",
    "\n",
    "        # 打印 ffill 后的表格以供检查\n",
    "        # print(f\"Sheet: {sheet_name} after ffill\")\n",
    "        # print(sheet_data.head(30))  # 打印前几行以检查\n",
    "        # 只考虑已支付的订单\n",
    "        paid_orders = sheet_data[sheet_data['订单状态'] == '已支付']\n",
    "\n",
    "        # 检查并处理数量或商品金额为零的情况\n",
    "        paid_orders = paid_orders[(paid_orders['数量'] > 0) & (paid_orders['商品金额'] > 0)]\n",
    "\n",
    "        # 计算单价\n",
    "        paid_orders['单价'] = paid_orders['商品金额'] / paid_orders['数量']\n",
    "\n",
    "        # 按商品名称分组，并计算每个商品的总数量和平均单价\n",
    "        grouped = paid_orders.groupby('商品名称').agg({'数量': 'sum', '单价': 'mean'}).reset_index()\n",
    "\n",
    "        # 将分组结果添加到汇总 DataFrame\n",
    "        all_products_summary = pd.concat([all_products_summary, grouped], ignore_index=True)\n",
    "\n",
    "# 对所有商品名称进行分组并求和数量，同时计算平均商品金额\n",
    "final_summary = all_products_summary.groupby('商品名称').agg({'数量': 'sum'}).reset_index()\n",
    "# 按数量降序排序\n",
    "final_summary_sorted = final_summary.sort_values(by='数量', ascending=False).reset_index(drop=True)\n",
    "\n",
    "final_summary_sorted\n",
    "# 计算总价格\n",
    "final_summary['总价格'] = (final_summary['数量'] * final_summary['单价']).round(2)\n",
    "# 输出结果到 CSV 文件\n",
    "csv_file_path = 'final_summary.csv'  # 更改为您想要的文件名和路径\n",
    "final_summary.to_csv(csv_file_path, index=False)\n",
    "# 打印最终汇总\n",
    "print(final_summary_sorted)\n",
    "\n",
    "# 计算所有商品的总价格\n",
    "total_price = final_summary['总价格'].sum()\n",
    "print(f\"所有商品的总价格: {total_price}\")"
   ]
  },
  {
   "cell_type": "code",
   "execution_count": null,
   "metadata": {},
   "outputs": [],
   "source": []
  },
  {
   "cell_type": "code",
   "execution_count": null,
   "metadata": {},
   "outputs": [],
   "source": []
  }
 ],
 "metadata": {
  "kernelspec": {
   "display_name": ".venv",
   "language": "python",
   "name": "python3"
  },
  "language_info": {
   "codemirror_mode": {
    "name": "ipython",
    "version": 3
   },
   "file_extension": ".py",
   "mimetype": "text/x-python",
   "name": "python",
   "nbconvert_exporter": "python",
   "pygments_lexer": "ipython3",
   "version": "3.10.6"
  }
 },
 "nbformat": 4,
 "nbformat_minor": 2
}
